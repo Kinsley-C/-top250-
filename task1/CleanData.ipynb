{
 "cells": [
  {
   "cell_type": "markdown",
   "metadata": {},
   "source": [
    "# 数据处理"
   ]
  },
  {
   "cell_type": "markdown",
   "metadata": {},
   "source": [
    "因为解析数据时考虑不充分，所以写入文件的数据需要经过处理。<br>\n",
    "原数据存在的问题：\n",
    "* 电影民称字段有有无关字段\n",
    "* 当时写入文件时是csv文件，但是有些短评是英文的也有英文的逗号\n",
    "* 短评数据写入文件时是每一条短评信息一行，但是短评中包含换行符<br>"
   ]
  },
  {
   "cell_type": "code",
   "execution_count": 1,
   "metadata": {
    "collapsed": true
   },
   "outputs": [],
   "source": [
    "import re"
   ]
  },
  {
   "cell_type": "code",
   "execution_count": 2,
   "metadata": {
    "collapsed": true
   },
   "outputs": [],
   "source": [
    "# 读取短评数据\n",
    "with open('comments.csv', 'r') as f:\n",
    "    comments = f.read()\n",
    "comments = comments.split('\\n') # 以换行符分割"
   ]
  },
  {
   "cell_type": "markdown",
   "metadata": {},
   "source": [
    "因为每条短评本身有换行符，需要将同一条短评的信息组合起来"
   ]
  },
  {
   "cell_type": "code",
   "execution_count": 7,
   "metadata": {
    "collapsed": true
   },
   "outputs": [],
   "source": [
    "comment_data = []\n",
    "# 将属于同一条短评信息的元素组合起来添加到新的列表中\n",
    "for item in comments:\n",
    "    # 如果一个元素中能匹配'短评,https://www.douban.com/people'，说明这是一条短评信息的开始\n",
    "    # 如果不能匹配说明这个元素跟上一条元素属于同一条短评信息\n",
    "    if re.search(r' 短评,https://www.douban.com/people', item): \n",
    "        comment = item\n",
    "        comment_data.append(comment) # 将该元素添加到新的列表中\n",
    "    else: \n",
    "        comment_data.pop(-1) # 去掉列表中的上一个元素\n",
    "        comment += item # 将上一个元素和该元素组合起来\n",
    "        comment_data.append(comment) # 将组合后的信息添加到新的列表中\n",
    "comment_data = list(set(comment_data)) # 去重"
   ]
  },
  {
   "cell_type": "code",
   "execution_count": 9,
   "metadata": {
    "collapsed": true
   },
   "outputs": [],
   "source": [
    "for item in comment_data:\n",
    "    # 用正则表达式匹配\n",
    "    s = re.search(r'(\\w+ 短评,)(https://www.douban.com/people/.+/,)(.*,)(\\d,)(\\d{4}-\\d{2}-\\d{2} \\d{2}:\\d{2}:\\d{2},)(.+)(,\\d+)', item)\n",
    "    if s:\n",
    "        comment = list(s.groups()) # 将tuple转换成列表\n",
    "        comment[0] = re.sub(r' 短评', '', s.group(1)) # 去掉电影名称中的子字符串 '短评'\n",
    "        comment[5] = s.group(6).strip() # 去掉短评两边的空格\n",
    "        # 将处理后的短评信息组合后写入文件\n",
    "        with open('clean_data.csv', 'a') as f:\n",
    "            f.write(''.join(comment))\n",
    "            f.write('\\n')"
   ]
  },
  {
   "cell_type": "code",
   "execution_count": null,
   "metadata": {
    "collapsed": true
   },
   "outputs": [],
   "source": []
  }
 ],
 "metadata": {
  "kernelspec": {
   "display_name": "Python 3",
   "language": "python",
   "name": "python3"
  },
  "language_info": {
   "codemirror_mode": {
    "name": "ipython",
    "version": 3
   },
   "file_extension": ".py",
   "mimetype": "text/x-python",
   "name": "python",
   "nbconvert_exporter": "python",
   "pygments_lexer": "ipython3",
   "version": "3.5.2"
  }
 },
 "nbformat": 4,
 "nbformat_minor": 2
}
